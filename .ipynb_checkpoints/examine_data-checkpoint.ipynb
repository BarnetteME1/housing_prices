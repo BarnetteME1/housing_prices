{
 "cells": [
  {
   "cell_type": "code",
   "execution_count": 67,
   "metadata": {},
   "outputs": [],
   "source": [
    "import os\n",
    "import numpy as np\n",
    "import pandas as pd\n",
    "import plotly.plotly as py\n",
    "import plotly.graph_objs as go\n",
    "\n",
    "from sklearn.preprocessing import LabelEncoder\n",
    "\n",
    "le = LabelEncoder()\n",
    "pd.options.display.max_columns = 80\n",
    "\n",
    "os.chdir('/Users/MatthewBarnette/data_science/house_prices/data')\n",
    "#os.chdir('C:/Users/spike/OneDrive/data_science/house_prices/data')\n",
    "\n",
    "train = pd.read_csv('train.csv',index_col='Id')"
   ]
  },
  {
   "cell_type": "markdown",
   "metadata": {},
   "source": [
    "To start off I want to make a correlation matrix, however categorical data will not work well. So I'm going to use label encoding to convert it so that it is at least numeric, though not continuous."
   ]
  },
  {
   "cell_type": "code",
   "execution_count": 5,
   "metadata": {},
   "outputs": [],
   "source": [
    "object_columns = train.select_dtypes(include=['object']).columns.values\n",
    "\n",
    "for column in object_columns:\n",
    "    le.fit(train[column].astype(str))\n",
    "    train[column] = le.transform(train[column].astype(str))"
   ]
  },
  {
   "cell_type": "markdown",
   "metadata": {},
   "source": [
    "I'm creating the correlation matrix and filtering it down to a correlation of greater than .5 as there are 80 columns in this dataset and I'm certain some of them are not as relavent as others. As the variable I will be trying to calculate is SalePrice I am mainly looking at the correlation of that column"
   ]
  },
  {
   "cell_type": "code",
   "execution_count": 70,
   "metadata": {},
   "outputs": [],
   "source": [
    "train_corr = train.corr(method='pearson')\n",
    "train_corr = train_corr[(train_corr.SalePrice >= .5)]\n",
    "train_corr = train_corr[train_corr.index]"
   ]
  },
  {
   "cell_type": "markdown",
   "metadata": {},
   "source": [
    "From there I take the correlation matrix and convert it into a heatmap for ease of viewing."
   ]
  },
  {
   "cell_type": "code",
   "execution_count": 66,
   "metadata": {},
   "outputs": [
    {
     "data": {
      "text/html": [
       "<iframe id=\"igraph\" scrolling=\"no\" style=\"border:none;\" seamless=\"seamless\" src=\"https://plot.ly/~BarnetteME1/2.embed\" height=\"525px\" width=\"100%\"></iframe>"
      ],
      "text/plain": [
       "<plotly.tools.PlotlyDisplay object>"
      ]
     },
     "execution_count": 66,
     "metadata": {},
     "output_type": "execute_result"
    }
   ],
   "source": [
    "train_heatmap = [go.Heatmap(z=train_corr.values.tolist(),\n",
    "                            x=train_corr.columns.values,\n",
    "                            y=train_corr.index,\n",
    "                            colorscale='Viridis')]\n",
    "\n",
    "py.iplot(train_heatmap,filename='housing_data_corr_matrix')"
   ]
  }
 ],
 "metadata": {
  "kernelspec": {
   "display_name": "Python 3",
   "language": "python",
   "name": "python3"
  },
  "language_info": {
   "codemirror_mode": {
    "name": "ipython",
    "version": 3
   },
   "file_extension": ".py",
   "mimetype": "text/x-python",
   "name": "python",
   "nbconvert_exporter": "python",
   "pygments_lexer": "ipython3",
   "version": "3.6.5"
  }
 },
 "nbformat": 4,
 "nbformat_minor": 2
}
