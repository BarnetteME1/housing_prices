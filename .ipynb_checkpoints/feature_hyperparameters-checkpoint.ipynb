{
 "cells": [
  {
   "cell_type": "code",
   "execution_count": 1,
   "metadata": {},
   "outputs": [],
   "source": [
    "import os\n",
    "import numpy as np\n",
    "import pandas as pd\n",
    "import matplotlib.pyplot as plt\n",
    "\n",
    "from scipy.stats import linregress\n",
    "\n",
    "from mlxtend.feature_selection import SequentialFeatureSelector\n",
    "from sklearn.preprocessing import LabelEncoder\n",
    "from sklearn.pipeline import Pipeline\n",
    "from sklearn.metrics import mean_squared_error\n",
    "from sklearn.model_selection import train_test_split, GridSearchCV\n",
    "from sklearn.ensemble import RandomForestRegressor\n",
    "\n",
    "%matplotlib inline"
   ]
  },
  {
   "cell_type": "code",
   "execution_count": 2,
   "metadata": {},
   "outputs": [],
   "source": [
    "os.chdir('/Users/MatthewBarnette/data_science/house_prices/data/')\n",
    "train = pd.read_csv('train.csv')"
   ]
  },
  {
   "cell_type": "code",
   "execution_count": 3,
   "metadata": {},
   "outputs": [],
   "source": [
    "train.LotFrontage = pd.to_numeric(train.LotFrontage)"
   ]
  },
  {
   "cell_type": "code",
   "execution_count": 4,
   "metadata": {},
   "outputs": [],
   "source": [
    "train[train.select_dtypes(include='object').columns.values] = train[train.select_dtypes(include='object').columns.values].fillna('None')\n",
    "train[train.select_dtypes(exclude='object').columns.values] = train[train.select_dtypes(exclude='object').columns.values].fillna(0)"
   ]
  },
  {
   "cell_type": "code",
   "execution_count": 5,
   "metadata": {},
   "outputs": [],
   "source": [
    "class MultiLabelEncoder:\n",
    "    \n",
    "    def __init__(self,columns=None,nafill=None):\n",
    "        self.columns = columns\n",
    "        self.nafill = nafill\n",
    "        \n",
    "    def fit(self,X,y=None):\n",
    "        return self\n",
    "    \n",
    "    def transform(self,X):\n",
    "        '''\n",
    "        Transforms columns specified. If none specified returns all columns\n",
    "        '''\n",
    "        if self.columns is not None:\n",
    "            for column in self.columns:\n",
    "                X[column] = LabelEncoder().fit_transform(X[column])\n",
    "        else:\n",
    "            for colname,column in output.iteritems():\n",
    "                X[colname] = LabelEncoder().fit_transform(X[column])\n",
    "        return X\n",
    "    \n",
    "    def fit_transform(self,X,y=None):\n",
    "        return self.fit(X,y).transform(X)"
   ]
  },
  {
   "cell_type": "code",
   "execution_count": 6,
   "metadata": {},
   "outputs": [],
   "source": [
    "train_n = train.select_dtypes(exclude='object')"
   ]
  },
  {
   "cell_type": "code",
   "execution_count": 7,
   "metadata": {},
   "outputs": [],
   "source": [
    "train_on = MultiLabelEncoder(columns=train.select_dtypes(include='object').columns.values).fit_transform(train)"
   ]
  },
  {
   "cell_type": "code",
   "execution_count": 8,
   "metadata": {},
   "outputs": [],
   "source": [
    "def corr_columns(df):\n",
    "    df = df.corr(method='pearson')\n",
    "    df = df[(df.SalePrice >= .5)]\n",
    "    df = df[df.index]\n",
    "    return df, df.SalePrice[0:len(df.index)-1]"
   ]
  },
  {
   "cell_type": "code",
   "execution_count": 9,
   "metadata": {},
   "outputs": [],
   "source": [
    "train_matrix_on, sale_corr_on = corr_columns(train_on)\n",
    "train_matrix_n, sale_corr_n = corr_columns(train_n)"
   ]
  },
  {
   "cell_type": "code",
   "execution_count": 10,
   "metadata": {},
   "outputs": [
    {
     "data": {
      "text/plain": [
       "OverallQual     0.790982\n",
       "YearBuilt       0.522897\n",
       "YearRemodAdd    0.507101\n",
       "TotalBsmtSF     0.613581\n",
       "1stFlrSF        0.605852\n",
       "GrLivArea       0.708624\n",
       "FullBath        0.560664\n",
       "TotRmsAbvGrd    0.533723\n",
       "GarageCars      0.640409\n",
       "GarageArea      0.623431\n",
       "Name: SalePrice, dtype: float64"
      ]
     },
     "execution_count": 10,
     "metadata": {},
     "output_type": "execute_result"
    }
   ],
   "source": [
    "sale_corr_on"
   ]
  },
  {
   "cell_type": "code",
   "execution_count": 11,
   "metadata": {},
   "outputs": [
    {
     "data": {
      "text/plain": [
       "OverallQual     0.790982\n",
       "YearBuilt       0.522897\n",
       "YearRemodAdd    0.507101\n",
       "TotalBsmtSF     0.613581\n",
       "1stFlrSF        0.605852\n",
       "GrLivArea       0.708624\n",
       "FullBath        0.560664\n",
       "TotRmsAbvGrd    0.533723\n",
       "GarageCars      0.640409\n",
       "GarageArea      0.623431\n",
       "Name: SalePrice, dtype: float64"
      ]
     },
     "execution_count": 11,
     "metadata": {},
     "output_type": "execute_result"
    }
   ],
   "source": [
    "sale_corr_n"
   ]
  },
  {
   "cell_type": "code",
   "execution_count": 12,
   "metadata": {},
   "outputs": [],
   "source": [
    "train_on_columns = train_on.columns.values\n",
    "train_n_columns = train_n.columns.values\n",
    "\n",
    "x_train_on, x_test_on, y_train_on, y_test_on = train_test_split(train_on[train_on_columns[1:-1]],train_on['SalePrice'])\n",
    "x_train_n, x_test_n, y_train_n, y_test_n = train_test_split(train_n[train_n_columns[1:-1]],train_n['SalePrice'])"
   ]
  },
  {
   "cell_type": "code",
   "execution_count": 13,
   "metadata": {},
   "outputs": [],
   "source": [
    "feat_select_on = SequentialFeatureSelector(RandomForestRegressor(),k_features=10,forward=True,verbose=2,cv=5,n_jobs=-1,scoring='r2')\n",
    "feat_select_n = SequentialFeatureSelector(RandomForestRegressor(),k_features=10,forward=True,verbose=2,cv=5,n_jobs=-1,scoring='r2')"
   ]
  },
  {
   "cell_type": "code",
   "execution_count": 14,
   "metadata": {},
   "outputs": [
    {
     "name": "stderr",
     "output_type": "stream",
     "text": [
      "[Parallel(n_jobs=-1)]: Done  58 tasks      | elapsed:    3.0s\n",
      "[Parallel(n_jobs=-1)]: Done  72 out of  79 | elapsed:    3.6s remaining:    0.3s\n",
      "[Parallel(n_jobs=-1)]: Done  79 out of  79 | elapsed:    3.8s finished\n",
      "\n",
      "[2018-08-05 19:49:17] Features: 1/10 -- score: 0.6697574571365201[Parallel(n_jobs=-1)]: Done  33 tasks      | elapsed:    2.1s\n",
      "[Parallel(n_jobs=-1)]: Done  78 out of  78 | elapsed:    4.1s finished\n",
      "\n",
      "[2018-08-05 19:49:22] Features: 2/10 -- score: 0.7171424203130872[Parallel(n_jobs=-1)]: Done  58 tasks      | elapsed:    2.8s\n",
      "[Parallel(n_jobs=-1)]: Done  70 out of  77 | elapsed:    3.3s remaining:    0.3s\n",
      "[Parallel(n_jobs=-1)]: Done  77 out of  77 | elapsed:    3.5s finished\n",
      "\n",
      "[2018-08-05 19:49:25] Features: 3/10 -- score: 0.772702677873023[Parallel(n_jobs=-1)]: Done  33 tasks      | elapsed:    2.2s\n",
      "[Parallel(n_jobs=-1)]: Done  76 out of  76 | elapsed:    4.6s finished\n",
      "\n",
      "[2018-08-05 19:49:30] Features: 4/10 -- score: 0.8233710649877957[Parallel(n_jobs=-1)]: Done  33 tasks      | elapsed:    2.3s\n",
      "[Parallel(n_jobs=-1)]: Done  75 out of  75 | elapsed:    4.9s finished\n",
      "\n",
      "[2018-08-05 19:49:35] Features: 5/10 -- score: 0.8405221558241983[Parallel(n_jobs=-1)]: Done  33 tasks      | elapsed:    2.5s\n",
      "[Parallel(n_jobs=-1)]: Done  74 out of  74 | elapsed:    5.1s finished\n",
      "\n",
      "[2018-08-05 19:49:40] Features: 6/10 -- score: 0.8560284576226534[Parallel(n_jobs=-1)]: Done  33 tasks      | elapsed:    2.6s\n",
      "[Parallel(n_jobs=-1)]: Done  73 out of  73 | elapsed:    5.3s finished\n",
      "\n",
      "[2018-08-05 19:49:46] Features: 7/10 -- score: 0.8578303078051949[Parallel(n_jobs=-1)]: Done  33 tasks      | elapsed:    2.8s\n",
      "[Parallel(n_jobs=-1)]: Done  72 out of  72 | elapsed:    5.6s finished\n",
      "\n",
      "[2018-08-05 19:49:51] Features: 8/10 -- score: 0.8625005022447805[Parallel(n_jobs=-1)]: Done  33 tasks      | elapsed:    2.8s\n",
      "[Parallel(n_jobs=-1)]: Done  71 out of  71 | elapsed:    5.6s finished\n",
      "\n",
      "[2018-08-05 19:49:57] Features: 9/10 -- score: 0.8662319762764656[Parallel(n_jobs=-1)]: Done  33 tasks      | elapsed:    3.0s\n",
      "[Parallel(n_jobs=-1)]: Done  70 out of  70 | elapsed:    6.0s finished\n",
      "\n",
      "[2018-08-05 19:50:03] Features: 10/10 -- score: 0.8635207370347053"
     ]
    },
    {
     "data": {
      "text/plain": [
       "SequentialFeatureSelector(clone_estimator=True, cv=5,\n",
       "             estimator=RandomForestRegressor(bootstrap=True, criterion='mse', max_depth=None,\n",
       "           max_features='auto', max_leaf_nodes=None,\n",
       "           min_impurity_decrease=0.0, min_impurity_split=None,\n",
       "           min_samples_leaf=1, min_samples_split=2,\n",
       "           min_weight_fraction_leaf=0.0, n_estimators=10, n_jobs=1,\n",
       "           oob_score=False, random_state=None, verbose=0, warm_start=False),\n",
       "             floating=False, forward=True, k_features=10, n_jobs=-1,\n",
       "             pre_dispatch='2*n_jobs', scoring='r2', verbose=2)"
      ]
     },
     "execution_count": 14,
     "metadata": {},
     "output_type": "execute_result"
    }
   ],
   "source": [
    "feat_select_on.fit(x_train_on,y_train_on)"
   ]
  },
  {
   "cell_type": "code",
   "execution_count": 15,
   "metadata": {},
   "outputs": [
    {
     "name": "stdout",
     "output_type": "stream",
     "text": [
      "{'feature_idx': (6, 11, 16, 19, 33, 43, 45, 71, 72, 74), 'cv_scores': array([0.87390522, 0.83740673, 0.86616183, 0.86789995, 0.87222995]), 'avg_score': 0.8635207370347053, 'feature_names': ('LotShape', 'Neighborhood', 'OverallQual', 'YearRemodAdd', 'BsmtFinSF1', '2ndFlrSF', 'GrLivArea', 'PoolQC', 'Fence', 'MiscVal')}\n"
     ]
    }
   ],
   "source": [
    "print(feat_select_on.subsets_[10])\n",
    "\n",
    "x_train_on = x_train_on[list(feat_select_on.k_feature_names_)]\n",
    "x_test_on = x_test_on[list(feat_select_on.k_feature_names_)]"
   ]
  },
  {
   "cell_type": "code",
   "execution_count": 16,
   "metadata": {},
   "outputs": [
    {
     "name": "stderr",
     "output_type": "stream",
     "text": [
      "[Parallel(n_jobs=-1)]: Done  36 out of  36 | elapsed:    1.5s finished\n",
      "\n",
      "[2018-08-05 19:50:05] Features: 1/10 -- score: 0.6610293184560352[Parallel(n_jobs=-1)]: Done  28 out of  35 | elapsed:    1.4s remaining:    0.3s\n",
      "[Parallel(n_jobs=-1)]: Done  35 out of  35 | elapsed:    1.5s finished\n",
      "\n",
      "[2018-08-05 19:50:07] Features: 2/10 -- score: 0.7046347933945161[Parallel(n_jobs=-1)]: Done  34 out of  34 | elapsed:    1.7s finished\n",
      "\n",
      "[2018-08-05 19:50:09] Features: 3/10 -- score: 0.7352628366172123[Parallel(n_jobs=-1)]: Done  33 out of  33 | elapsed:    1.9s finished\n",
      "\n",
      "[2018-08-05 19:50:11] Features: 4/10 -- score: 0.7741578515565857[Parallel(n_jobs=-1)]: Done  32 out of  32 | elapsed:    2.1s finished\n",
      "\n",
      "[2018-08-05 19:50:13] Features: 5/10 -- score: 0.7982018452691719[Parallel(n_jobs=-1)]: Done  31 out of  31 | elapsed:    2.1s finished\n",
      "\n",
      "[2018-08-05 19:50:15] Features: 6/10 -- score: 0.8150492472149449[Parallel(n_jobs=-1)]: Done  30 out of  30 | elapsed:    2.1s finished\n",
      "\n",
      "[2018-08-05 19:50:17] Features: 7/10 -- score: 0.8264777717515057[Parallel(n_jobs=-1)]: Done  29 out of  29 | elapsed:    2.2s finished\n",
      "\n",
      "[2018-08-05 19:50:20] Features: 8/10 -- score: 0.8248286573952376[Parallel(n_jobs=-1)]: Done  28 out of  28 | elapsed:    2.3s finished\n",
      "\n",
      "[2018-08-05 19:50:22] Features: 9/10 -- score: 0.833885849680771[Parallel(n_jobs=-1)]: Done  27 out of  27 | elapsed:    2.4s finished\n",
      "\n",
      "[2018-08-05 19:50:25] Features: 10/10 -- score: 0.8296720784846316"
     ]
    },
    {
     "data": {
      "text/plain": [
       "SequentialFeatureSelector(clone_estimator=True, cv=5,\n",
       "             estimator=RandomForestRegressor(bootstrap=True, criterion='mse', max_depth=None,\n",
       "           max_features='auto', max_leaf_nodes=None,\n",
       "           min_impurity_decrease=0.0, min_impurity_split=None,\n",
       "           min_samples_leaf=1, min_samples_split=2,\n",
       "           min_weight_fraction_leaf=0.0, n_estimators=10, n_jobs=1,\n",
       "           oob_score=False, random_state=None, verbose=0, warm_start=False),\n",
       "             floating=False, forward=True, k_features=10, n_jobs=-1,\n",
       "             pre_dispatch='2*n_jobs', scoring='r2', verbose=2)"
      ]
     },
     "execution_count": 16,
     "metadata": {},
     "output_type": "execute_result"
    }
   ],
   "source": [
    "feat_select_n.fit(x_train_n,y_train_n)"
   ]
  },
  {
   "cell_type": "code",
   "execution_count": 17,
   "metadata": {},
   "outputs": [
    {
     "name": "stdout",
     "output_type": "stream",
     "text": [
      "{'feature_idx': (1, 2, 3, 4, 5, 6, 12, 13, 16, 20), 'cv_scores': array([0.84637608, 0.83869889, 0.83876872, 0.80919379, 0.81532291]), 'avg_score': 0.8296720784846316, 'feature_names': ('LotFrontage', 'LotArea', 'OverallQual', 'OverallCond', 'YearBuilt', 'YearRemodAdd', '1stFlrSF', '2ndFlrSF', 'BsmtFullBath', 'BedroomAbvGr')}\n"
     ]
    }
   ],
   "source": [
    "print(feat_select_n.subsets_[10])\n",
    "\n",
    "x_train_n = x_train_n[list(feat_select_n.k_feature_names_)]\n",
    "x_test_n = x_test_n[list(feat_select_n.k_feature_names_)]"
   ]
  },
  {
   "cell_type": "code",
   "execution_count": 18,
   "metadata": {},
   "outputs": [],
   "source": [
    "parameters = {'n_estimators':[10,25,50,100],'max_depth':[None,1,2,3],'min_samples_leaf':[1,2,3,4]}"
   ]
  },
  {
   "cell_type": "code",
   "execution_count": 37,
   "metadata": {},
   "outputs": [],
   "source": [
    "gs_on = GridSearchCV(estimator=RandomForestRegressor(),param_grid=parameters)"
   ]
  },
  {
   "cell_type": "code",
   "execution_count": 38,
   "metadata": {},
   "outputs": [
    {
     "data": {
      "text/plain": [
       "GridSearchCV(cv=None, error_score='raise',\n",
       "       estimator=RandomForestRegressor(bootstrap=True, criterion='mse', max_depth=None,\n",
       "           max_features='auto', max_leaf_nodes=None,\n",
       "           min_impurity_decrease=0.0, min_impurity_split=None,\n",
       "           min_samples_leaf=1, min_samples_split=2,\n",
       "           min_weight_fraction_leaf=0.0, n_estimators=10, n_jobs=1,\n",
       "           oob_score=False, random_state=None, verbose=0, warm_start=False),\n",
       "       fit_params=None, iid=True, n_jobs=1,\n",
       "       param_grid={'n_estimators': [10, 25, 50, 100], 'max_depth': [None, 1, 2, 3], 'min_samples_leaf': [1, 2, 3, 4]},\n",
       "       pre_dispatch='2*n_jobs', refit=True, return_train_score='warn',\n",
       "       scoring=None, verbose=0)"
      ]
     },
     "execution_count": 38,
     "metadata": {},
     "output_type": "execute_result"
    }
   ],
   "source": [
    "gs_on.fit(x_train_on,y_train_on)"
   ]
  },
  {
   "cell_type": "code",
   "execution_count": 39,
   "metadata": {},
   "outputs": [
    {
     "data": {
      "text/plain": [
       "{'max_depth': None, 'min_samples_leaf': 1, 'n_estimators': 50}"
      ]
     },
     "execution_count": 39,
     "metadata": {},
     "output_type": "execute_result"
    }
   ],
   "source": [
    "gs_on.best_params_"
   ]
  },
  {
   "cell_type": "code",
   "execution_count": 40,
   "metadata": {},
   "outputs": [
    {
     "data": {
      "text/plain": [
       "GridSearchCV(cv=None, error_score='raise',\n",
       "       estimator=RandomForestRegressor(bootstrap=True, criterion='mse', max_depth=None,\n",
       "           max_features='auto', max_leaf_nodes=None,\n",
       "           min_impurity_decrease=0.0, min_impurity_split=None,\n",
       "           min_samples_leaf=1, min_samples_split=2,\n",
       "           min_weight_fraction_leaf=0.0, n_estimators=10, n_jobs=1,\n",
       "           oob_score=False, random_state=None, verbose=0, warm_start=False),\n",
       "       fit_params=None, iid=True, n_jobs=1,\n",
       "       param_grid={'n_estimators': [10, 25, 50, 100], 'max_depth': [None, 1, 2, 3], 'min_samples_leaf': [1, 2, 3, 4]},\n",
       "       pre_dispatch='2*n_jobs', refit=True, return_train_score='warn',\n",
       "       scoring=None, verbose=0)"
      ]
     },
     "execution_count": 40,
     "metadata": {},
     "output_type": "execute_result"
    }
   ],
   "source": [
    "gs_on.fit(x_train_on,y_train_on)"
   ]
  },
  {
   "cell_type": "code",
   "execution_count": 41,
   "metadata": {},
   "outputs": [
    {
     "data": {
      "text/plain": [
       "{'max_depth': None, 'min_samples_leaf': 1, 'n_estimators': 100}"
      ]
     },
     "execution_count": 41,
     "metadata": {},
     "output_type": "execute_result"
    }
   ],
   "source": [
    "gs_on.best_params_"
   ]
  },
  {
   "cell_type": "code",
   "execution_count": 42,
   "metadata": {},
   "outputs": [],
   "source": [
    "gs_on_rf = gs_on.best_estimator_"
   ]
  },
  {
   "cell_type": "code",
   "execution_count": 43,
   "metadata": {},
   "outputs": [
    {
     "data": {
      "text/plain": [
       "RandomForestRegressor(bootstrap=True, criterion='mse', max_depth=None,\n",
       "           max_features='auto', max_leaf_nodes=None,\n",
       "           min_impurity_decrease=0.0, min_impurity_split=None,\n",
       "           min_samples_leaf=1, min_samples_split=2,\n",
       "           min_weight_fraction_leaf=0.0, n_estimators=100, n_jobs=1,\n",
       "           oob_score=False, random_state=None, verbose=0, warm_start=False)"
      ]
     },
     "execution_count": 43,
     "metadata": {},
     "output_type": "execute_result"
    }
   ],
   "source": [
    "gs_on_rf.fit(x_train_on,y_train_on)"
   ]
  },
  {
   "cell_type": "code",
   "execution_count": 44,
   "metadata": {},
   "outputs": [],
   "source": [
    "predictions_on = gs_on.predict(x_test_on)"
   ]
  },
  {
   "cell_type": "code",
   "execution_count": 45,
   "metadata": {},
   "outputs": [
    {
     "data": {
      "text/plain": [
       "0.17121223599488164"
      ]
     },
     "execution_count": 45,
     "metadata": {},
     "output_type": "execute_result"
    }
   ],
   "source": [
    "np.sqrt(mean_squared_error(y_true=np.log(y_test_on),y_pred=np.log(predictions_on)))"
   ]
  },
  {
   "cell_type": "code",
   "execution_count": 46,
   "metadata": {},
   "outputs": [],
   "source": [
    "gs_n = GridSearchCV(estimator=RandomForestRegressor(),param_grid=parameters)"
   ]
  },
  {
   "cell_type": "code",
   "execution_count": 47,
   "metadata": {},
   "outputs": [
    {
     "data": {
      "text/plain": [
       "GridSearchCV(cv=None, error_score='raise',\n",
       "       estimator=RandomForestRegressor(bootstrap=True, criterion='mse', max_depth=None,\n",
       "           max_features='auto', max_leaf_nodes=None,\n",
       "           min_impurity_decrease=0.0, min_impurity_split=None,\n",
       "           min_samples_leaf=1, min_samples_split=2,\n",
       "           min_weight_fraction_leaf=0.0, n_estimators=10, n_jobs=1,\n",
       "           oob_score=False, random_state=None, verbose=0, warm_start=False),\n",
       "       fit_params=None, iid=True, n_jobs=1,\n",
       "       param_grid={'n_estimators': [10, 25, 50, 100], 'max_depth': [None, 1, 2, 3], 'min_samples_leaf': [1, 2, 3, 4]},\n",
       "       pre_dispatch='2*n_jobs', refit=True, return_train_score='warn',\n",
       "       scoring=None, verbose=0)"
      ]
     },
     "execution_count": 47,
     "metadata": {},
     "output_type": "execute_result"
    }
   ],
   "source": [
    "gs_n.fit(x_train_n,y_train_n)"
   ]
  },
  {
   "cell_type": "code",
   "execution_count": 48,
   "metadata": {},
   "outputs": [
    {
     "data": {
      "text/plain": [
       "{'max_depth': None, 'min_samples_leaf': 1, 'n_estimators': 50}"
      ]
     },
     "execution_count": 48,
     "metadata": {},
     "output_type": "execute_result"
    }
   ],
   "source": [
    "gs_n.best_params_"
   ]
  },
  {
   "cell_type": "code",
   "execution_count": 49,
   "metadata": {},
   "outputs": [],
   "source": [
    "gs_n_rf = gs_n.best_estimator_"
   ]
  },
  {
   "cell_type": "code",
   "execution_count": 50,
   "metadata": {},
   "outputs": [
    {
     "data": {
      "text/plain": [
       "RandomForestRegressor(bootstrap=True, criterion='mse', max_depth=None,\n",
       "           max_features='auto', max_leaf_nodes=None,\n",
       "           min_impurity_decrease=0.0, min_impurity_split=None,\n",
       "           min_samples_leaf=1, min_samples_split=2,\n",
       "           min_weight_fraction_leaf=0.0, n_estimators=50, n_jobs=1,\n",
       "           oob_score=False, random_state=None, verbose=0, warm_start=False)"
      ]
     },
     "execution_count": 50,
     "metadata": {},
     "output_type": "execute_result"
    }
   ],
   "source": [
    "gs_n_rf.fit(x_train_n,y_train_n)"
   ]
  },
  {
   "cell_type": "code",
   "execution_count": 51,
   "metadata": {},
   "outputs": [],
   "source": [
    "predictions_n = gs_n_rf.predict(x_test_n)"
   ]
  },
  {
   "cell_type": "code",
   "execution_count": 52,
   "metadata": {},
   "outputs": [
    {
     "data": {
      "text/plain": [
       "0.15591493035317877"
      ]
     },
     "execution_count": 52,
     "metadata": {},
     "output_type": "execute_result"
    }
   ],
   "source": [
    "np.sqrt(mean_squared_error(y_true=np.log(y_test_n),y_pred=np.log(predictions_n)))"
   ]
  },
  {
   "cell_type": "markdown",
   "metadata": {},
   "source": [
    "pipe = Pipeline([('feature_selection', feat_select),\n",
    "                 ('rfr',RandomForestRegressor())])"
   ]
  }
 ],
 "metadata": {
  "kernelspec": {
   "display_name": "Python 3",
   "language": "python",
   "name": "python3"
  },
  "language_info": {
   "codemirror_mode": {
    "name": "ipython",
    "version": 3
   },
   "file_extension": ".py",
   "mimetype": "text/x-python",
   "name": "python",
   "nbconvert_exporter": "python",
   "pygments_lexer": "ipython3",
   "version": "3.6.5"
  }
 },
 "nbformat": 4,
 "nbformat_minor": 2
}
