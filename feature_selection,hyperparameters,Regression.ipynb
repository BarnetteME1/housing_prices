{
 "cells": [
  {
   "cell_type": "code",
   "execution_count": 1,
   "metadata": {},
   "outputs": [],
   "source": [
    "import os\n",
    "import numpy as np\n",
    "import pandas as pd\n",
    "import matplotlib.pyplot as plt\n",
    "\n",
    "from scipy.stats import linregress\n",
    "\n",
    "from mlxtend.feature_selection import SequentialFeatureSelector\n",
    "from sklearn.preprocessing import LabelEncoder\n",
    "from sklearn.pipeline import Pipeline\n",
    "from sklearn.metrics import mean_squared_error\n",
    "from sklearn.model_selection import train_test_split, GridSearchCV\n",
    "from sklearn.ensemble import RandomForestRegressor\n",
    "\n",
    "%matplotlib inline"
   ]
  },
  {
   "cell_type": "code",
   "execution_count": 2,
   "metadata": {},
   "outputs": [],
   "source": [
    "os.chdir('/Users/MatthewBarnette/data_science/house_prices/data/')\n",
    "train = pd.read_csv('train.csv')\n",
    "test = pd.read_csv('test.csv')"
   ]
  },
  {
   "cell_type": "code",
   "execution_count": 3,
   "metadata": {},
   "outputs": [],
   "source": [
    "def get_numeric(df,*args):\n",
    "    for arg in args:\n",
    "        df[arg] = pd.to_numeric(df[arg])\n",
    "    df = df.select_dtypes(exclude='object')\n",
    "    df.fillna(0,inplace=True)\n",
    "    return df"
   ]
  },
  {
   "cell_type": "code",
   "execution_count": 4,
   "metadata": {},
   "outputs": [
    {
     "name": "stderr",
     "output_type": "stream",
     "text": [
      "/Users/MatthewBarnette/.pyenv/versions/3.6.5/envs/housingprices/lib/python3.6/site-packages/pandas/core/frame.py:3790: SettingWithCopyWarning: \n",
      "A value is trying to be set on a copy of a slice from a DataFrame\n",
      "\n",
      "See the caveats in the documentation: http://pandas.pydata.org/pandas-docs/stable/indexing.html#indexing-view-versus-copy\n",
      "  downcast=downcast, **kwargs)\n"
     ]
    }
   ],
   "source": [
    "train = get_numeric(train,'LotFrontage')\n",
    "test = get_numeric(test,'LotFrontage')\n",
    "test_id = test.pop('Id')"
   ]
  },
  {
   "cell_type": "code",
   "execution_count": 5,
   "metadata": {},
   "outputs": [],
   "source": [
    "class MultiLabelEncoder:\n",
    "    \n",
    "    def __init__(self,columns=None,nafill=None):\n",
    "        self.columns = columns\n",
    "        self.nafill = nafill\n",
    "        \n",
    "    def fit(self,X,y=None):\n",
    "        return self\n",
    "    \n",
    "    def transform(self,X):\n",
    "        '''\n",
    "        Transforms columns specified. If none specified returns all columns\n",
    "        '''\n",
    "        if self.columns is not None:\n",
    "            for column in self.columns:\n",
    "                X[column] = LabelEncoder().fit_transform(X[column])\n",
    "        else:\n",
    "            for colname,column in output.iteritems():\n",
    "                X[colname] = LabelEncoder().fit_transform(X[column])\n",
    "        return X\n",
    "    \n",
    "    def fit_transform(self,X,y=None):\n",
    "        return self.fit(X,y).transform(X)"
   ]
  },
  {
   "cell_type": "code",
   "execution_count": 6,
   "metadata": {},
   "outputs": [],
   "source": [
    "def corr_columns(df):\n",
    "    df = df.corr(method='pearson')\n",
    "    df = df[(df.SalePrice >= .5)]\n",
    "    df = df[df.index]\n",
    "    return df, df.SalePrice[0:len(df.index)-1]"
   ]
  },
  {
   "cell_type": "code",
   "execution_count": 7,
   "metadata": {},
   "outputs": [],
   "source": [
    "train_columns = train.columns.values\n",
    "\n",
    "x_train, x_validate, y_train, y_validate = train_test_split(train[train_columns[1:-1]],train['SalePrice'])"
   ]
  },
  {
   "cell_type": "code",
   "execution_count": 8,
   "metadata": {},
   "outputs": [],
   "source": [
    "feat_select = SequentialFeatureSelector(RandomForestRegressor(),k_features=10,forward=True,verbose=2,cv=5,n_jobs=-1,scoring='r2')"
   ]
  },
  {
   "cell_type": "code",
   "execution_count": 9,
   "metadata": {},
   "outputs": [
    {
     "name": "stderr",
     "output_type": "stream",
     "text": [
      "[Parallel(n_jobs=-1)]: Done  36 out of  36 | elapsed:    1.4s finished\n",
      "\n",
      "[2018-08-11 18:06:40] Features: 1/10 -- score: 0.6835086978750173[Parallel(n_jobs=-1)]: Done  28 out of  35 | elapsed:    1.4s remaining:    0.3s\n",
      "[Parallel(n_jobs=-1)]: Done  35 out of  35 | elapsed:    1.7s finished\n",
      "\n",
      "[2018-08-11 18:06:42] Features: 2/10 -- score: 0.7344913358854023[Parallel(n_jobs=-1)]: Done  34 out of  34 | elapsed:    2.6s finished\n",
      "\n",
      "[2018-08-11 18:06:45] Features: 3/10 -- score: 0.7988703178399053[Parallel(n_jobs=-1)]: Done  33 out of  33 | elapsed:    2.3s finished\n",
      "\n",
      "[2018-08-11 18:06:47] Features: 4/10 -- score: 0.8339092836234435[Parallel(n_jobs=-1)]: Done  32 out of  32 | elapsed:    2.9s finished\n",
      "\n",
      "[2018-08-11 18:06:50] Features: 5/10 -- score: 0.847814782717818[Parallel(n_jobs=-1)]: Done  31 out of  31 | elapsed:    2.8s finished\n",
      "\n",
      "[2018-08-11 18:06:53] Features: 6/10 -- score: 0.8567479446453096[Parallel(n_jobs=-1)]: Done  30 out of  30 | elapsed:    2.7s finished\n",
      "\n",
      "[2018-08-11 18:06:56] Features: 7/10 -- score: 0.8560751116641203[Parallel(n_jobs=-1)]: Done  29 out of  29 | elapsed:    2.3s finished\n",
      "\n",
      "[2018-08-11 18:06:59] Features: 8/10 -- score: 0.8567125050476859[Parallel(n_jobs=-1)]: Done  28 out of  28 | elapsed:    2.6s finished\n",
      "\n",
      "[2018-08-11 18:07:01] Features: 9/10 -- score: 0.8584042630574732[Parallel(n_jobs=-1)]: Done  27 out of  27 | elapsed:    3.2s finished\n",
      "\n",
      "[2018-08-11 18:07:05] Features: 10/10 -- score: 0.8612876116299748"
     ]
    },
    {
     "data": {
      "text/plain": [
       "SequentialFeatureSelector(clone_estimator=True, cv=5,\n",
       "             estimator=RandomForestRegressor(bootstrap=True, criterion='mse', max_depth=None,\n",
       "           max_features='auto', max_leaf_nodes=None,\n",
       "           min_impurity_decrease=0.0, min_impurity_split=None,\n",
       "           min_samples_leaf=1, min_samples_split=2,\n",
       "           min_weight_fraction_leaf=0.0, n_estimators=10, n_jobs=1,\n",
       "           oob_score=False, random_state=None, verbose=0, warm_start=False),\n",
       "             floating=False, forward=True, k_features=10, n_jobs=-1,\n",
       "             pre_dispatch='2*n_jobs', scoring='r2', verbose=2)"
      ]
     },
     "execution_count": 9,
     "metadata": {},
     "output_type": "execute_result"
    }
   ],
   "source": [
    "feat_select.fit(x_train,y_train)"
   ]
  },
  {
   "cell_type": "code",
   "execution_count": 10,
   "metadata": {},
   "outputs": [
    {
     "name": "stdout",
     "output_type": "stream",
     "text": [
      "{'feature_idx': (3, 6, 8, 9, 12, 15, 18, 19, 23, 24), 'cv_scores': array([0.90381151, 0.76320381, 0.87252372, 0.90773779, 0.85916123]), 'avg_score': 0.8612876116299748, 'feature_names': ('OverallQual', 'YearRemodAdd', 'BsmtFinSF1', 'BsmtFinSF2', '1stFlrSF', 'GrLivArea', 'FullBath', 'HalfBath', 'Fireplaces', 'GarageYrBlt')}\n"
     ]
    }
   ],
   "source": [
    "print(feat_select.subsets_[10])\n",
    "\n",
    "x_train = x_train[list(feat_select.k_feature_names_)]\n",
    "x_validate = x_validate[list(feat_select.k_feature_names_)]\n",
    "test = test[list(feat_select.k_feature_names_)]"
   ]
  },
  {
   "cell_type": "code",
   "execution_count": 11,
   "metadata": {},
   "outputs": [],
   "source": [
    "parameters = {'n_estimators':[10,25,50,100],'max_depth':[None,1,2,3],'min_samples_leaf':[1,2,3,4]}"
   ]
  },
  {
   "cell_type": "code",
   "execution_count": 12,
   "metadata": {},
   "outputs": [],
   "source": [
    "gs = GridSearchCV(estimator=RandomForestRegressor(),param_grid=parameters)"
   ]
  },
  {
   "cell_type": "code",
   "execution_count": 13,
   "metadata": {},
   "outputs": [
    {
     "data": {
      "text/plain": [
       "GridSearchCV(cv=None, error_score='raise',\n",
       "       estimator=RandomForestRegressor(bootstrap=True, criterion='mse', max_depth=None,\n",
       "           max_features='auto', max_leaf_nodes=None,\n",
       "           min_impurity_decrease=0.0, min_impurity_split=None,\n",
       "           min_samples_leaf=1, min_samples_split=2,\n",
       "           min_weight_fraction_leaf=0.0, n_estimators=10, n_jobs=1,\n",
       "           oob_score=False, random_state=None, verbose=0, warm_start=False),\n",
       "       fit_params=None, iid=True, n_jobs=1,\n",
       "       param_grid={'n_estimators': [10, 25, 50, 100], 'max_depth': [None, 1, 2, 3], 'min_samples_leaf': [1, 2, 3, 4]},\n",
       "       pre_dispatch='2*n_jobs', refit=True, return_train_score='warn',\n",
       "       scoring=None, verbose=0)"
      ]
     },
     "execution_count": 13,
     "metadata": {},
     "output_type": "execute_result"
    }
   ],
   "source": [
    "gs.fit(x_train,y_train)"
   ]
  },
  {
   "cell_type": "code",
   "execution_count": 14,
   "metadata": {},
   "outputs": [
    {
     "data": {
      "text/plain": [
       "{'max_depth': None, 'min_samples_leaf': 2, 'n_estimators': 50}"
      ]
     },
     "execution_count": 14,
     "metadata": {},
     "output_type": "execute_result"
    }
   ],
   "source": [
    "gs.best_params_"
   ]
  },
  {
   "cell_type": "code",
   "execution_count": 15,
   "metadata": {},
   "outputs": [],
   "source": [
    "gs_rf = gs.best_estimator_"
   ]
  },
  {
   "cell_type": "code",
   "execution_count": 16,
   "metadata": {},
   "outputs": [
    {
     "data": {
      "text/plain": [
       "RandomForestRegressor(bootstrap=True, criterion='mse', max_depth=None,\n",
       "           max_features='auto', max_leaf_nodes=None,\n",
       "           min_impurity_decrease=0.0, min_impurity_split=None,\n",
       "           min_samples_leaf=2, min_samples_split=2,\n",
       "           min_weight_fraction_leaf=0.0, n_estimators=50, n_jobs=1,\n",
       "           oob_score=False, random_state=None, verbose=0, warm_start=False)"
      ]
     },
     "execution_count": 16,
     "metadata": {},
     "output_type": "execute_result"
    }
   ],
   "source": [
    "gs_rf.fit(x_train,y_train)"
   ]
  },
  {
   "cell_type": "code",
   "execution_count": 17,
   "metadata": {},
   "outputs": [],
   "source": [
    "predictions = gs_rf.predict(x_validate)"
   ]
  },
  {
   "cell_type": "code",
   "execution_count": 18,
   "metadata": {},
   "outputs": [
    {
     "data": {
      "text/plain": [
       "0.1740172082047193"
      ]
     },
     "execution_count": 18,
     "metadata": {},
     "output_type": "execute_result"
    }
   ],
   "source": [
    "np.sqrt(mean_squared_error(y_true=np.log(y_validate),y_pred=np.log(predictions)))"
   ]
  },
  {
   "cell_type": "code",
   "execution_count": 19,
   "metadata": {},
   "outputs": [],
   "source": [
    "test['SalePrice'] = gs_rf.predict(test)\n",
    "test['Id'] = test_id"
   ]
  },
  {
   "cell_type": "code",
   "execution_count": 20,
   "metadata": {},
   "outputs": [],
   "source": [
    "test = test[['Id','SalePrice']]"
   ]
  },
  {
   "cell_type": "code",
   "execution_count": 23,
   "metadata": {},
   "outputs": [],
   "source": [
    "os.chdir('/Users/MatthewBarnette/data_science/house_prices/predictions/')\n",
    "test.to_csv('randomforest.csv',index=False)"
   ]
  }
 ],
 "metadata": {
  "kernelspec": {
   "display_name": "Python 3",
   "language": "python",
   "name": "python3"
  },
  "language_info": {
   "codemirror_mode": {
    "name": "ipython",
    "version": 3
   },
   "file_extension": ".py",
   "mimetype": "text/x-python",
   "name": "python",
   "nbconvert_exporter": "python",
   "pygments_lexer": "ipython3",
   "version": "3.6.5"
  }
 },
 "nbformat": 4,
 "nbformat_minor": 2
}
